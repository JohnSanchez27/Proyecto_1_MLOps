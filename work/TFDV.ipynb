{
 "cells": [
  {
   "cell_type": "markdown",
   "id": "2b4ea236-bb38-41be-b2e4-6a26828f7c4b",
   "metadata": {},
   "source": [
    "# Pipeline de Validación de Datos con TensorFlow Data Validation (TFDV)\n",
    "\n",
    "## 1. Contexto del Proyecto\n",
    "\n",
    "Este proyecto tiene como objetivo crear un ambiente de desarrollo para machine learning que permita la ingesta, validación y transformación de datos. En este ejemplo se trabaja con un dataset de **cubierta forestal**, en el cual se predice el tipo de cubierta forestal (\"Cover_Type\") a partir de variables cartográficas. La canalización incluye:\n",
    "\n",
    "- **Selección de características:** Se elige un subconjunto de variables numéricas junto con la etiqueta.\n",
    "- **Ingesta y división del dataset:** Se carga el archivo CSV, se visualizan los datos y se divide en conjuntos de entrenamiento y prueba.\n",
    "- **Generación de estadísticas:** Se analizan las distribuciones de las variables mediante TFDV.\n",
    "- **Inferencia y curado del esquema:** Se infiere un esquema a partir de las estadísticas y se ajustan dominios esperados para ciertas características.\n",
    "- **Detección de anomalías:** Se valida un conjunto de datos (simulando un escenario de inferencia en el que falta la etiqueta) para detectar discrepancias.\n",
    "\n",
    "Este pipeline forma parte de un ambiente reproducible que facilita la integración de metadatos y el seguimiento de la procedencia de los datos, asegurando la calidad antes de proceder a etapas posteriores como la transformación o el entrenamiento del modelo.\n"
   ]
  },
  {
   "cell_type": "markdown",
   "id": "8aced134-72ac-462c-b3b0-af27bb769e2e",
   "metadata": {},
   "source": [
    "## 2. Importación de librerías"
   ]
  },
  {
   "cell_type": "code",
   "execution_count": 1,
   "id": "1f3eb773-0360-4269-a341-b0c89c3273e0",
   "metadata": {
    "tags": []
   },
   "outputs": [
    {
     "name": "stderr",
     "output_type": "stream",
     "text": [
      "2025-02-26 17:03:48.206088: I tensorflow/core/util/port.cc:113] oneDNN custom operations are on. You may see slightly different numerical results due to floating-point round-off errors from different computation orders. To turn them off, set the environment variable `TF_ENABLE_ONEDNN_OPTS=0`.\n",
      "2025-02-26 17:03:48.235486: I external/local_tsl/tsl/cuda/cudart_stub.cc:32] Could not find cuda drivers on your machine, GPU will not be used.\n",
      "2025-02-26 17:03:48.451791: I external/local_tsl/tsl/cuda/cudart_stub.cc:32] Could not find cuda drivers on your machine, GPU will not be used.\n",
      "2025-02-26 17:03:48.705403: E external/local_xla/xla/stream_executor/cuda/cuda_fft.cc:479] Unable to register cuFFT factory: Attempting to register factory for plugin cuFFT when one has already been registered\n",
      "2025-02-26 17:03:48.896518: E external/local_xla/xla/stream_executor/cuda/cuda_dnn.cc:10575] Unable to register cuDNN factory: Attempting to register factory for plugin cuDNN when one has already been registered\n",
      "2025-02-26 17:03:48.897384: E external/local_xla/xla/stream_executor/cuda/cuda_blas.cc:1442] Unable to register cuBLAS factory: Attempting to register factory for plugin cuBLAS when one has already been registered\n",
      "2025-02-26 17:03:49.217073: I tensorflow/core/platform/cpu_feature_guard.cc:210] This TensorFlow binary is optimized to use available CPU instructions in performance-critical operations.\n",
      "To enable the following instructions: AVX2 AVX_VNNI FMA, in other operations, rebuild TensorFlow with the appropriate compiler flags.\n",
      "2025-02-26 17:03:51.204653: W tensorflow/compiler/tf2tensorrt/utils/py_utils.cc:38] TF-TRT Warning: Could not find TensorRT\n"
     ]
    }
   ],
   "source": [
    "# Import libraries\n",
    "import os\n",
    "import requests\n",
    "import pandas as pd\n",
    "import tensorflow as tf\n",
    "import tensorflow_data_validation as tfdv\n",
    "from sklearn.model_selection import train_test_split"
   ]
  },
  {
   "cell_type": "markdown",
   "id": "739689c2-7e1b-44e9-98f3-dca338706415",
   "metadata": {},
   "source": [
    "# 3. Carga del Dataset\n",
    "\n",
    "Se descarga el dataset de cubierta forestal (si no existe en el directorio) y se carga en un DataFrame de Pandas."
   ]
  },
  {
   "cell_type": "code",
   "execution_count": 28,
   "id": "f71f5417-ae26-40bd-a50d-570d1ef3fa01",
   "metadata": {
    "tags": []
   },
   "outputs": [],
   "source": [
    "## Download data\n",
    "if not os.path.isfile('cubierta_forestal.csv'):\n",
    "    #http://archive.ics.uci.edu/ml/datasets/Diabetes+130-US+hospitals+for+years+1999-2008#\n",
    "    url = 'https://docs.google.com/uc?export= \\\n",
    "download&confirm={{VALUE}}&id=1lVF1BCWLH4eXXV_YOJzjR7xZjj-wAGj9'\n",
    "    r = requests.get(url, allow_redirects=True)\n",
    "    open('cubierta_forestal.csv', 'wb').write(r.content)"
   ]
  },
  {
   "cell_type": "code",
   "execution_count": 19,
   "id": "42fe4817-924b-4c85-ae0a-0f1474569494",
   "metadata": {
    "tags": []
   },
   "outputs": [
    {
     "data": {
      "text/html": [
       "<div>\n",
       "<style scoped>\n",
       "    .dataframe tbody tr th:only-of-type {\n",
       "        vertical-align: middle;\n",
       "    }\n",
       "\n",
       "    .dataframe tbody tr th {\n",
       "        vertical-align: top;\n",
       "    }\n",
       "\n",
       "    .dataframe thead th {\n",
       "        text-align: right;\n",
       "    }\n",
       "</style>\n",
       "<table border=\"1\" class=\"dataframe\">\n",
       "  <thead>\n",
       "    <tr style=\"text-align: right;\">\n",
       "      <th></th>\n",
       "      <th>Elevation</th>\n",
       "      <th>Aspect</th>\n",
       "      <th>Slope</th>\n",
       "      <th>Horizontal_Distance_To_Hydrology</th>\n",
       "      <th>Vertical_Distance_To_Hydrology</th>\n",
       "      <th>Horizontal_Distance_To_Roadways</th>\n",
       "      <th>Hillshade_9am</th>\n",
       "      <th>Hillshade_Noon</th>\n",
       "      <th>Hillshade_3pm</th>\n",
       "      <th>Horizontal_Distance_To_Fire_Points</th>\n",
       "      <th>Wilderness_Area</th>\n",
       "      <th>Soil_Type</th>\n",
       "      <th>Cover_Type</th>\n",
       "    </tr>\n",
       "  </thead>\n",
       "  <tbody>\n",
       "    <tr>\n",
       "      <th>0</th>\n",
       "      <td>2991</td>\n",
       "      <td>119</td>\n",
       "      <td>7</td>\n",
       "      <td>67</td>\n",
       "      <td>11</td>\n",
       "      <td>1015</td>\n",
       "      <td>233</td>\n",
       "      <td>234</td>\n",
       "      <td>133</td>\n",
       "      <td>1570</td>\n",
       "      <td>Commanche</td>\n",
       "      <td>C7202</td>\n",
       "      <td>1</td>\n",
       "    </tr>\n",
       "    <tr>\n",
       "      <th>1</th>\n",
       "      <td>2876</td>\n",
       "      <td>3</td>\n",
       "      <td>18</td>\n",
       "      <td>485</td>\n",
       "      <td>71</td>\n",
       "      <td>2495</td>\n",
       "      <td>192</td>\n",
       "      <td>202</td>\n",
       "      <td>144</td>\n",
       "      <td>1557</td>\n",
       "      <td>Commanche</td>\n",
       "      <td>C7757</td>\n",
       "      <td>1</td>\n",
       "    </tr>\n",
       "    <tr>\n",
       "      <th>2</th>\n",
       "      <td>3171</td>\n",
       "      <td>315</td>\n",
       "      <td>2</td>\n",
       "      <td>277</td>\n",
       "      <td>9</td>\n",
       "      <td>4374</td>\n",
       "      <td>213</td>\n",
       "      <td>237</td>\n",
       "      <td>162</td>\n",
       "      <td>1052</td>\n",
       "      <td>Rawah</td>\n",
       "      <td>C7745</td>\n",
       "      <td>0</td>\n",
       "    </tr>\n",
       "    <tr>\n",
       "      <th>3</th>\n",
       "      <td>3087</td>\n",
       "      <td>342</td>\n",
       "      <td>13</td>\n",
       "      <td>190</td>\n",
       "      <td>31</td>\n",
       "      <td>4774</td>\n",
       "      <td>193</td>\n",
       "      <td>221</td>\n",
       "      <td>166</td>\n",
       "      <td>752</td>\n",
       "      <td>Rawah</td>\n",
       "      <td>C7745</td>\n",
       "      <td>0</td>\n",
       "    </tr>\n",
       "    <tr>\n",
       "      <th>4</th>\n",
       "      <td>2835</td>\n",
       "      <td>158</td>\n",
       "      <td>10</td>\n",
       "      <td>212</td>\n",
       "      <td>41</td>\n",
       "      <td>3596</td>\n",
       "      <td>231</td>\n",
       "      <td>242</td>\n",
       "      <td>141</td>\n",
       "      <td>3280</td>\n",
       "      <td>Rawah</td>\n",
       "      <td>C4744</td>\n",
       "      <td>1</td>\n",
       "    </tr>\n",
       "  </tbody>\n",
       "</table>\n",
       "</div>"
      ],
      "text/plain": [
       "   Elevation  Aspect  Slope  Horizontal_Distance_To_Hydrology  \\\n",
       "0       2991     119      7                                67   \n",
       "1       2876       3     18                               485   \n",
       "2       3171     315      2                               277   \n",
       "3       3087     342     13                               190   \n",
       "4       2835     158     10                               212   \n",
       "\n",
       "   Vertical_Distance_To_Hydrology  Horizontal_Distance_To_Roadways  \\\n",
       "0                              11                             1015   \n",
       "1                              71                             2495   \n",
       "2                               9                             4374   \n",
       "3                              31                             4774   \n",
       "4                              41                             3596   \n",
       "\n",
       "   Hillshade_9am  Hillshade_Noon  Hillshade_3pm  \\\n",
       "0            233             234            133   \n",
       "1            192             202            144   \n",
       "2            213             237            162   \n",
       "3            193             221            166   \n",
       "4            231             242            141   \n",
       "\n",
       "   Horizontal_Distance_To_Fire_Points Wilderness_Area Soil_Type  Cover_Type  \n",
       "0                                1570       Commanche     C7202           1  \n",
       "1                                1557       Commanche     C7757           1  \n",
       "2                                1052           Rawah     C7745           0  \n",
       "3                                 752           Rawah     C7745           0  \n",
       "4                                3280           Rawah     C4744           1  "
      ]
     },
     "execution_count": 19,
     "metadata": {},
     "output_type": "execute_result"
    }
   ],
   "source": [
    "# Check some data\n",
    "df = pd.read_csv('cubierta_forestal.csv', index_col=False)\n",
    "df.head()"
   ]
  },
  {
   "cell_type": "code",
   "execution_count": 20,
   "id": "b7c1db52-d32e-4c30-9a1b-126f25ce323b",
   "metadata": {
    "tags": []
   },
   "outputs": [
    {
     "data": {
      "text/plain": [
       "Index(['Elevation', 'Aspect', 'Slope', 'Horizontal_Distance_To_Hydrology',\n",
       "       'Vertical_Distance_To_Hydrology', 'Horizontal_Distance_To_Roadways',\n",
       "       'Hillshade_9am', 'Hillshade_Noon', 'Hillshade_3pm',\n",
       "       'Horizontal_Distance_To_Fire_Points', 'Wilderness_Area', 'Soil_Type',\n",
       "       'Cover_Type'],\n",
       "      dtype='object')"
      ]
     },
     "execution_count": 20,
     "metadata": {},
     "output_type": "execute_result"
    }
   ],
   "source": [
    "# Check all columns names\n",
    "df.columns"
   ]
  },
  {
   "cell_type": "markdown",
   "id": "0b6dc80a-5845-4388-a994-7f469810a154",
   "metadata": {},
   "source": [
    "## 4. Selección de Características\n",
    "\n",
    "Se selecciona un subconjunto del dataset que contenga únicamente las características numéricas relevantes y la etiqueta \"Cover_Type\"."
   ]
  },
  {
   "cell_type": "code",
   "execution_count": 21,
   "id": "096607c4-b568-49b1-8844-0fa76ec78dd2",
   "metadata": {
    "tags": []
   },
   "outputs": [],
   "source": [
    "# Se elige un subconjunto que contenga solo características numéricas y la etiqueta (Cover_Type)\n",
    "selected_columns = [\n",
    "    'Elevation',\n",
    "    'Slope',\n",
    "    'Horizontal_Distance_To_Hydrology',\n",
    "    'Vertical_Distance_To_Hydrology',\n",
    "    'Horizontal_Distance_To_Roadways',\n",
    "    'Hillshade_9am',\n",
    "    'Hillshade_Noon',\n",
    "    'Horizontal_Distance_To_Fire_Points',\n",
    "    'Cover_Type'\n",
    "]\n",
    "\n",
    "df = df[selected_columns]"
   ]
  },
  {
   "cell_type": "markdown",
   "id": "76d947a4-2096-4c47-995e-80ad8f342ff7",
   "metadata": {},
   "source": [
    "## 5. División del Conjunto de Datos\n",
    "\n",
    "Se divide el DataFrame en conjuntos de entrenamiento y prueba para analizar la distribución de los datos y simular escenarios de inferencia."
   ]
  },
  {
   "cell_type": "code",
   "execution_count": null,
   "id": "b93b4555-cd3d-45f0-b3dd-ade7ad3d444f",
   "metadata": {},
   "outputs": [],
   "source": [
    "# --- Dividir el DataFrame en conjuntos de entrenamiento y prueba ---\n",
    "train_df, test_df = train_test_split(df, test_size=0.2, random_state=42)"
   ]
  },
  {
   "cell_type": "markdown",
   "id": "3834fcab-ce53-4797-b6a3-690c40dfd26e",
   "metadata": {},
   "source": [
    "## 6. Generación de Estadísticas del Conjunto de Entrenamiento\n",
    "\n",
    "Utilizando TFDV se generan y visualizan las estadísticas del conjunto de entrenamiento. Esto permite conocer la distribución de cada variable."
   ]
  },
  {
   "cell_type": "code",
   "execution_count": 22,
   "id": "9a3a6db9-97c3-4694-99fc-a3e7c3fed7f4",
   "metadata": {
    "tags": []
   },
   "outputs": [
    {
     "data": {
      "text/html": [
       "<iframe id='facets-iframe' width=\"100%\" height=\"500px\"></iframe>\n",
       "        <script>\n",
       "        facets_iframe = document.getElementById('facets-iframe');\n",
       "        facets_html = '<script src=\"https://cdnjs.cloudflare.com/ajax/libs/webcomponentsjs/1.3.3/webcomponents-lite.js\"><\\/script><link rel=\"import\" href=\"https://raw.githubusercontent.com/PAIR-code/facets/master/facets-dist/facets-jupyter.html\"><facets-overview proto-input=\"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\"></facets-overview>';\n",
       "        facets_iframe.srcdoc = facets_html;\n",
       "         facets_iframe.id = \"\";\n",
       "         setTimeout(() => {\n",
       "           facets_iframe.setAttribute('height', facets_iframe.contentWindow.document.body.offsetHeight + 'px')\n",
       "         }, 1500)\n",
       "         </script>"
      ],
      "text/plain": [
       "<IPython.core.display.HTML object>"
      ]
     },
     "metadata": {},
     "output_type": "display_data"
    }
   ],
   "source": [
    "# --- 2.1. Generar estadísticas del conjunto de entrenamiento ---\n",
    "stats_train = tfdv.generate_statistics_from_dataframe(train_df)\n",
    "# Visualización interactiva (útil en entornos Jupyter)\n",
    "tfdv.visualize_statistics(stats_train)\n"
   ]
  },
  {
   "cell_type": "markdown",
   "id": "e64c0b0d-2ae7-48fc-84fa-085152e6e09e",
   "metadata": {},
   "source": [
    "# 7. Inferencia del Esquema\n",
    "\n",
    "A partir de las estadísticas generadas se infiere un esquema del dataset que servirá como referencia para validar los datos."
   ]
  },
  {
   "cell_type": "code",
   "execution_count": 23,
   "id": "c4e507dd-fbf1-40db-a59e-f369e500a126",
   "metadata": {
    "tags": []
   },
   "outputs": [
    {
     "data": {
      "text/html": [
       "<div>\n",
       "<style scoped>\n",
       "    .dataframe tbody tr th:only-of-type {\n",
       "        vertical-align: middle;\n",
       "    }\n",
       "\n",
       "    .dataframe tbody tr th {\n",
       "        vertical-align: top;\n",
       "    }\n",
       "\n",
       "    .dataframe thead th {\n",
       "        text-align: right;\n",
       "    }\n",
       "</style>\n",
       "<table border=\"1\" class=\"dataframe\">\n",
       "  <thead>\n",
       "    <tr style=\"text-align: right;\">\n",
       "      <th></th>\n",
       "      <th>Type</th>\n",
       "      <th>Presence</th>\n",
       "      <th>Valency</th>\n",
       "      <th>Domain</th>\n",
       "    </tr>\n",
       "    <tr>\n",
       "      <th>Feature name</th>\n",
       "      <th></th>\n",
       "      <th></th>\n",
       "      <th></th>\n",
       "      <th></th>\n",
       "    </tr>\n",
       "  </thead>\n",
       "  <tbody>\n",
       "    <tr>\n",
       "      <th>'Elevation'</th>\n",
       "      <td>INT</td>\n",
       "      <td>required</td>\n",
       "      <td></td>\n",
       "      <td>-</td>\n",
       "    </tr>\n",
       "    <tr>\n",
       "      <th>'Slope'</th>\n",
       "      <td>INT</td>\n",
       "      <td>required</td>\n",
       "      <td></td>\n",
       "      <td>-</td>\n",
       "    </tr>\n",
       "    <tr>\n",
       "      <th>'Horizontal_Distance_To_Hydrology'</th>\n",
       "      <td>INT</td>\n",
       "      <td>required</td>\n",
       "      <td></td>\n",
       "      <td>-</td>\n",
       "    </tr>\n",
       "    <tr>\n",
       "      <th>'Vertical_Distance_To_Hydrology'</th>\n",
       "      <td>INT</td>\n",
       "      <td>required</td>\n",
       "      <td></td>\n",
       "      <td>-</td>\n",
       "    </tr>\n",
       "    <tr>\n",
       "      <th>'Horizontal_Distance_To_Roadways'</th>\n",
       "      <td>INT</td>\n",
       "      <td>required</td>\n",
       "      <td></td>\n",
       "      <td>-</td>\n",
       "    </tr>\n",
       "    <tr>\n",
       "      <th>'Hillshade_9am'</th>\n",
       "      <td>INT</td>\n",
       "      <td>required</td>\n",
       "      <td></td>\n",
       "      <td>-</td>\n",
       "    </tr>\n",
       "    <tr>\n",
       "      <th>'Hillshade_Noon'</th>\n",
       "      <td>INT</td>\n",
       "      <td>required</td>\n",
       "      <td></td>\n",
       "      <td>-</td>\n",
       "    </tr>\n",
       "    <tr>\n",
       "      <th>'Horizontal_Distance_To_Fire_Points'</th>\n",
       "      <td>INT</td>\n",
       "      <td>required</td>\n",
       "      <td></td>\n",
       "      <td>-</td>\n",
       "    </tr>\n",
       "    <tr>\n",
       "      <th>'Cover_Type'</th>\n",
       "      <td>INT</td>\n",
       "      <td>required</td>\n",
       "      <td></td>\n",
       "      <td>-</td>\n",
       "    </tr>\n",
       "    <tr>\n",
       "      <th>'__index_level_0__'</th>\n",
       "      <td>INT</td>\n",
       "      <td>required</td>\n",
       "      <td></td>\n",
       "      <td>-</td>\n",
       "    </tr>\n",
       "  </tbody>\n",
       "</table>\n",
       "</div>"
      ],
      "text/plain": [
       "                                     Type  Presence Valency Domain\n",
       "Feature name                                                      \n",
       "'Elevation'                           INT  required              -\n",
       "'Slope'                               INT  required              -\n",
       "'Horizontal_Distance_To_Hydrology'    INT  required              -\n",
       "'Vertical_Distance_To_Hydrology'      INT  required              -\n",
       "'Horizontal_Distance_To_Roadways'     INT  required              -\n",
       "'Hillshade_9am'                       INT  required              -\n",
       "'Hillshade_Noon'                      INT  required              -\n",
       "'Horizontal_Distance_To_Fire_Points'  INT  required              -\n",
       "'Cover_Type'                          INT  required              -\n",
       "'__index_level_0__'                   INT  required              -"
      ]
     },
     "metadata": {},
     "output_type": "display_data"
    }
   ],
   "source": [
    "# --- 2.2. Inferir un esquema a partir de las estadísticas de entrenamiento ---\n",
    "schema = tfdv.infer_schema(stats_train)\n",
    "tfdv.display_schema(schema)\n"
   ]
  },
  {
   "cell_type": "markdown",
   "id": "850a4c0e-8359-4bbd-964b-61a7732fec24",
   "metadata": {},
   "source": [
    "## 8. Curado del Esquema con Dominios Específicos\n",
    "\n",
    "Se actualiza el esquema para especificar los rangos esperados de las variables clave:\n",
    "\n",
    "- Hillshade_9am y Hillshade_Noon: Valores entre 0 y 255.\n",
    "\n",
    "- Slope: Valores entre 0 y 90.\n",
    "\n",
    "- Cover_Type: Valores entre 0 y 6 (variable categórica).\n",
    "\n",
    "Se utiliza tfdv.get_feature() para acceder a cada característica y ajustar sus dominios."
   ]
  },
  {
   "cell_type": "code",
   "execution_count": 24,
   "id": "03ecd5da-57ee-4551-9fce-3c909cc90c95",
   "metadata": {
    "tags": []
   },
   "outputs": [],
   "source": [
    "import tensorflow_data_validation as tfdv\n",
    "\n",
    "# Acceder y modificar la característica 'Hillshade_9am'\n",
    "hillshade_9am = tfdv.get_feature(schema, 'Hillshade_9am')\n",
    "hillshade_9am.int_domain.min = 0\n",
    "hillshade_9am.int_domain.max = 255\n",
    "\n",
    "# Acceder y modificar la característica 'Hillshade_Noon'\n",
    "hillshade_noon = tfdv.get_feature(schema, 'Hillshade_Noon')\n",
    "hillshade_noon.int_domain.min = 0\n",
    "hillshade_noon.int_domain.max = 255\n",
    "\n",
    "# Acceder y modificar la característica 'Slope'\n",
    "slope_feature = tfdv.get_feature(schema, 'Slope')\n",
    "slope_feature.int_domain.min = 0\n",
    "slope_feature.int_domain.max = 90\n",
    "\n"
   ]
  },
  {
   "cell_type": "code",
   "execution_count": 25,
   "id": "099bf68b-4223-4cd7-9b37-0f04f8c76389",
   "metadata": {
    "tags": []
   },
   "outputs": [
    {
     "data": {
      "text/html": [
       "<div>\n",
       "<style scoped>\n",
       "    .dataframe tbody tr th:only-of-type {\n",
       "        vertical-align: middle;\n",
       "    }\n",
       "\n",
       "    .dataframe tbody tr th {\n",
       "        vertical-align: top;\n",
       "    }\n",
       "\n",
       "    .dataframe thead th {\n",
       "        text-align: right;\n",
       "    }\n",
       "</style>\n",
       "<table border=\"1\" class=\"dataframe\">\n",
       "  <thead>\n",
       "    <tr style=\"text-align: right;\">\n",
       "      <th></th>\n",
       "      <th>Type</th>\n",
       "      <th>Presence</th>\n",
       "      <th>Valency</th>\n",
       "      <th>Domain</th>\n",
       "    </tr>\n",
       "    <tr>\n",
       "      <th>Feature name</th>\n",
       "      <th></th>\n",
       "      <th></th>\n",
       "      <th></th>\n",
       "      <th></th>\n",
       "    </tr>\n",
       "  </thead>\n",
       "  <tbody>\n",
       "    <tr>\n",
       "      <th>'Elevation'</th>\n",
       "      <td>INT</td>\n",
       "      <td>required</td>\n",
       "      <td></td>\n",
       "      <td>-</td>\n",
       "    </tr>\n",
       "    <tr>\n",
       "      <th>'Slope'</th>\n",
       "      <td>INT</td>\n",
       "      <td>required</td>\n",
       "      <td></td>\n",
       "      <td>min: 0; max: 90</td>\n",
       "    </tr>\n",
       "    <tr>\n",
       "      <th>'Horizontal_Distance_To_Hydrology'</th>\n",
       "      <td>INT</td>\n",
       "      <td>required</td>\n",
       "      <td></td>\n",
       "      <td>-</td>\n",
       "    </tr>\n",
       "    <tr>\n",
       "      <th>'Vertical_Distance_To_Hydrology'</th>\n",
       "      <td>INT</td>\n",
       "      <td>required</td>\n",
       "      <td></td>\n",
       "      <td>-</td>\n",
       "    </tr>\n",
       "    <tr>\n",
       "      <th>'Horizontal_Distance_To_Roadways'</th>\n",
       "      <td>INT</td>\n",
       "      <td>required</td>\n",
       "      <td></td>\n",
       "      <td>-</td>\n",
       "    </tr>\n",
       "    <tr>\n",
       "      <th>'Hillshade_9am'</th>\n",
       "      <td>INT</td>\n",
       "      <td>required</td>\n",
       "      <td></td>\n",
       "      <td>min: 0; max: 255</td>\n",
       "    </tr>\n",
       "    <tr>\n",
       "      <th>'Hillshade_Noon'</th>\n",
       "      <td>INT</td>\n",
       "      <td>required</td>\n",
       "      <td></td>\n",
       "      <td>min: 0; max: 255</td>\n",
       "    </tr>\n",
       "    <tr>\n",
       "      <th>'Horizontal_Distance_To_Fire_Points'</th>\n",
       "      <td>INT</td>\n",
       "      <td>required</td>\n",
       "      <td></td>\n",
       "      <td>-</td>\n",
       "    </tr>\n",
       "    <tr>\n",
       "      <th>'Cover_Type'</th>\n",
       "      <td>INT</td>\n",
       "      <td>required</td>\n",
       "      <td></td>\n",
       "      <td>min: 0; max: 6</td>\n",
       "    </tr>\n",
       "    <tr>\n",
       "      <th>'__index_level_0__'</th>\n",
       "      <td>INT</td>\n",
       "      <td>required</td>\n",
       "      <td></td>\n",
       "      <td>-</td>\n",
       "    </tr>\n",
       "  </tbody>\n",
       "</table>\n",
       "</div>"
      ],
      "text/plain": [
       "                                     Type  Presence Valency            Domain\n",
       "Feature name                                                                 \n",
       "'Elevation'                           INT  required                         -\n",
       "'Slope'                               INT  required           min: 0; max: 90\n",
       "'Horizontal_Distance_To_Hydrology'    INT  required                         -\n",
       "'Vertical_Distance_To_Hydrology'      INT  required                         -\n",
       "'Horizontal_Distance_To_Roadways'     INT  required                         -\n",
       "'Hillshade_9am'                       INT  required          min: 0; max: 255\n",
       "'Hillshade_Noon'                      INT  required          min: 0; max: 255\n",
       "'Horizontal_Distance_To_Fire_Points'  INT  required                         -\n",
       "'Cover_Type'                          INT  required            min: 0; max: 6\n",
       "'__index_level_0__'                   INT  required                         -"
      ]
     },
     "metadata": {},
     "output_type": "display_data"
    }
   ],
   "source": [
    "# Acceder y modificar la característica 'Cover_Type'\n",
    "cover_type_feature = tfdv.get_feature(schema, 'Cover_Type')\n",
    "cover_type_feature.int_domain.min = 0\n",
    "cover_type_feature.int_domain.max = 6\n",
    "\n",
    "# Intentar marcar la característica como categórica.\n",
    "# En algunas versiones de TFDV, 'is_categorical' no está disponible en int_domain.\n",
    "try:\n",
    "    cover_type_feature.int_domain.is_categorical = True\n",
    "except AttributeError:\n",
    "    print(\"La propiedad 'is_categorical' no está soportada en la versión actual de TFDV. \" +\n",
    "          \"Se recomienda gestionar la variable categórica en el preprocesamiento o en el modelado.\")\n",
    "\n",
    "# Visualizar el esquema actualizado\n",
    "tfdv.display_schema(schema)\n",
    "\n",
    "\n"
   ]
  },
  {
   "cell_type": "markdown",
   "id": "13bc0aec-f33b-4c69-a29e-232435478fba",
   "metadata": {},
   "source": [
    "## 9. Detección de Anomalías y Análisis de Distribuciones\n",
    "\n",
    "Se simula un conjunto de datos de servicio (escenario de inferencia) eliminando la etiqueta \"Cover_Type\" y se generan estadísticas para comparar con el esquema curado. Esto permite detectar discrepancias, como la ausencia de una columna esperada."
   ]
  },
  {
   "cell_type": "code",
   "execution_count": 26,
   "id": "dd151089-c17c-40f6-8bff-68c03d34705c",
   "metadata": {
    "tags": []
   },
   "outputs": [
    {
     "data": {
      "text/html": [
       "<div>\n",
       "<style scoped>\n",
       "    .dataframe tbody tr th:only-of-type {\n",
       "        vertical-align: middle;\n",
       "    }\n",
       "\n",
       "    .dataframe tbody tr th {\n",
       "        vertical-align: top;\n",
       "    }\n",
       "\n",
       "    .dataframe thead th {\n",
       "        text-align: right;\n",
       "    }\n",
       "</style>\n",
       "<table border=\"1\" class=\"dataframe\">\n",
       "  <thead>\n",
       "    <tr style=\"text-align: right;\">\n",
       "      <th></th>\n",
       "      <th>Anomaly short description</th>\n",
       "      <th>Anomaly long description</th>\n",
       "    </tr>\n",
       "    <tr>\n",
       "      <th>Feature name</th>\n",
       "      <th></th>\n",
       "      <th></th>\n",
       "    </tr>\n",
       "  </thead>\n",
       "  <tbody>\n",
       "    <tr>\n",
       "      <th>'Cover_Type'</th>\n",
       "      <td>Column dropped</td>\n",
       "      <td>Column is completely missing</td>\n",
       "    </tr>\n",
       "  </tbody>\n",
       "</table>\n",
       "</div>"
      ],
      "text/plain": [
       "             Anomaly short description      Anomaly long description\n",
       "Feature name                                                        \n",
       "'Cover_Type'            Column dropped  Column is completely missing"
      ]
     },
     "metadata": {},
     "output_type": "display_data"
    }
   ],
   "source": [
    "# --- 2.4. Validar datos de servicio (inferencia) ---\n",
    "# Simular un conjunto de datos de servicio eliminando la etiqueta 'Cover_Type'\n",
    "serving_df = test_df.drop(columns=['Cover_Type'])\n",
    "stats_serving = tfdv.generate_statistics_from_dataframe(serving_df)\n",
    "\n",
    "# Al validar, se detectará que falta la columna 'Cover_Type'\n",
    "anomalies_serving = tfdv.validate_statistics(statistics=stats_serving, schema=schema)\n",
    "tfdv.display_anomalies(anomalies_serving)\n",
    "\n",
    "# Nota: Para ambientes de entrenamiento e inferencia se podría configurar el esquema de manera\n",
    "# que la presencia de 'Cover_Type' sea requerida solo en entrenamiento y opcional en inferencia."
   ]
  },
  {
   "cell_type": "markdown",
   "id": "3920d4f8-5dc8-471e-883a-d56b36702113",
   "metadata": {},
   "source": [
    "## Conclusión\n",
    "\n",
    "En este notebook se ha:\n",
    "\n",
    "- Ingresado y explorado el dataset de cubierta forestal.\n",
    "\n",
    "- Seleccionado un subconjunto de características numéricas y la etiqueta.\n",
    "\n",
    "- Dividido el dataset en conjuntos de entrenamiento y prueba.\n",
    "\n",
    "- Generado estadísticas descriptivas con TFDV para analizar la distribución de los datos.\n",
    "\n",
    "- Inferido un esquema y curado dicho esquema estableciendo dominios esperados para cada variable.\n",
    "\n",
    "- Realizado una validación en un escenario de inferencia para detectar anomalías (por ejemplo, la ausencia de la columna \"Cover_Type\").\n",
    "\n",
    "Este proceso permite asegurar la calidad de los datos y detectar posibles problemas antes de avanzar a etapas posteriores, como la transformación (con TensorFlow Transform) o el entrenamiento del modelo.\n"
   ]
  }
 ],
 "metadata": {
  "kernelspec": {
   "display_name": "Python 3 (ipykernel)",
   "language": "python",
   "name": "python3"
  },
  "language_info": {
   "codemirror_mode": {
    "name": "ipython",
    "version": 3
   },
   "file_extension": ".py",
   "mimetype": "text/x-python",
   "name": "python",
   "nbconvert_exporter": "python",
   "pygments_lexer": "ipython3",
   "version": "3.9.21"
  }
 },
 "nbformat": 4,
 "nbformat_minor": 5
}
